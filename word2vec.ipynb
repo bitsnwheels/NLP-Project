{
  "metadata": {
    "kernelspec": {
      "language": "python",
      "display_name": "Python 3",
      "name": "python3"
    },
    "language_info": {
      "name": "python",
      "version": "3.11.13",
      "mimetype": "text/x-python",
      "codemirror_mode": {
        "name": "ipython",
        "version": 3
      },
      "pygments_lexer": "ipython3",
      "nbconvert_exporter": "python",
      "file_extension": ".py"
    },
    "kaggle": {
      "accelerator": "none",
      "dataSources": [
        {
          "sourceId": 9561702,
          "sourceType": "datasetVersion",
          "datasetId": 5518931
        }
      ],
      "dockerImageVersionId": 31089,
      "isInternetEnabled": false,
      "language": "python",
      "sourceType": "notebook",
      "isGpuEnabled": false
    },
    "colab": {
      "name": "notebookdc66f97c51",
      "provenance": []
    }
  },
  "nbformat_minor": 0,
  "nbformat": 4,
  "cells": [
    {
      "source": [
        "# IMPORTANT: RUN THIS CELL IN ORDER TO IMPORT YOUR KAGGLE DATA SOURCES,\n",
        "# THEN FEEL FREE TO DELETE THIS CELL.\n",
        "# NOTE: THIS NOTEBOOK ENVIRONMENT DIFFERS FROM KAGGLE'S PYTHON\n",
        "# ENVIRONMENT SO THERE MAY BE MISSING LIBRARIES USED BY YOUR\n",
        "# NOTEBOOK.\n",
        "import kagglehub\n",
        "rishabhbhartiya_taarak_mehta_ka_ooltah_chashmah_episode_dateset_path = kagglehub.dataset_download('rishabhbhartiya/taarak-mehta-ka-ooltah-chashmah-episode-dateset')\n",
        "\n",
        "print('Data source import complete.')\n"
      ],
      "metadata": {
        "colab": {
          "base_uri": "https://localhost:8080/"
        },
        "id": "y2PdlAXOH5iM",
        "outputId": "4ae3e14d-1d80-44de-c663-1f102ba1efb7"
      },
      "cell_type": "code",
      "outputs": [
        {
          "output_type": "stream",
          "name": "stdout",
          "text": [
            "Data source import complete.\n"
          ]
        }
      ],
      "execution_count": 1
    },
    {
      "cell_type": "code",
      "source": [
        "import kagglehub\n",
        "\n",
        "# Download latest version\n",
        "path = kagglehub.dataset_download(\"rishabhbhartiya/taarak-mehta-ka-ooltah-chashmah-episode-dateset\")\n",
        "\n",
        "print(\"Path to dataset files:\", path)"
      ],
      "metadata": {
        "trusted": true,
        "execution": {
          "iopub.status.busy": "2025-07-09T11:54:57.907968Z",
          "iopub.execute_input": "2025-07-09T11:54:57.90855Z",
          "iopub.status.idle": "2025-07-09T11:54:58.385765Z",
          "shell.execute_reply.started": "2025-07-09T11:54:57.90852Z",
          "shell.execute_reply": "2025-07-09T11:54:58.384941Z"
        },
        "colab": {
          "base_uri": "https://localhost:8080/"
        },
        "id": "NHBq2AsGH5iO",
        "outputId": "ecb4627c-6d96-48e7-9a89-60152b20f2d0"
      },
      "outputs": [
        {
          "output_type": "stream",
          "name": "stdout",
          "text": [
            "Path to dataset files: /kaggle/input/taarak-mehta-ka-ooltah-chashmah-episode-dateset\n"
          ]
        }
      ],
      "execution_count": 2
    },
    {
      "cell_type": "code",
      "source": [
        "import numpy as np\n",
        "import pandas as pd"
      ],
      "metadata": {
        "trusted": true,
        "execution": {
          "iopub.status.busy": "2025-07-09T11:55:22.197573Z",
          "iopub.execute_input": "2025-07-09T11:55:22.198072Z",
          "iopub.status.idle": "2025-07-09T11:55:22.600753Z",
          "shell.execute_reply.started": "2025-07-09T11:55:22.198044Z",
          "shell.execute_reply": "2025-07-09T11:55:22.599859Z"
        },
        "id": "5WJeNyYDH5iP"
      },
      "outputs": [],
      "execution_count": 3
    },
    {
      "cell_type": "code",
      "source": [
        "df = pd.read_csv(\"/kaggle/input/taarak-mehta-ka-ooltah-chashmah-episode-dateset/TMKOC_Sorted_with_cast.csv\")\n",
        "df.shape"
      ],
      "metadata": {
        "trusted": true,
        "execution": {
          "iopub.status.busy": "2025-07-09T11:57:33.612202Z",
          "iopub.execute_input": "2025-07-09T11:57:33.612544Z",
          "iopub.status.idle": "2025-07-09T11:57:33.676526Z",
          "shell.execute_reply.started": "2025-07-09T11:57:33.612518Z",
          "shell.execute_reply": "2025-07-09T11:57:33.675623Z"
        },
        "colab": {
          "base_uri": "https://localhost:8080/"
        },
        "id": "YhM0gz8SH5iQ",
        "outputId": "617c213b-f106-4771-a43a-5a1c1216ea86"
      },
      "outputs": [
        {
          "output_type": "execute_result",
          "data": {
            "text/plain": [
              "(4095, 15)"
            ]
          },
          "metadata": {},
          "execution_count": 4
        }
      ],
      "execution_count": 4
    },
    {
      "cell_type": "code",
      "source": [
        "dataset = []\n",
        "for review in df['description']:\n",
        "    dataset.append(review)\n",
        "\n",
        "len(dataset)"
      ],
      "metadata": {
        "trusted": true,
        "execution": {
          "iopub.status.busy": "2025-07-09T12:16:25.288252Z",
          "iopub.execute_input": "2025-07-09T12:16:25.288629Z",
          "iopub.status.idle": "2025-07-09T12:16:25.308361Z",
          "shell.execute_reply.started": "2025-07-09T12:16:25.288605Z",
          "shell.execute_reply": "2025-07-09T12:16:25.307568Z"
        },
        "colab": {
          "base_uri": "https://localhost:8080/"
        },
        "id": "RmBHwdGYH5iQ",
        "outputId": "eeec7e4e-5a43-4eed-d4a3-10dc77dd9b83"
      },
      "outputs": [
        {
          "output_type": "execute_result",
          "data": {
            "text/plain": [
              "4095"
            ]
          },
          "metadata": {},
          "execution_count": 5
        }
      ],
      "execution_count": 5
    },
    {
      "cell_type": "code",
      "source": [
        "!pip install -U smart_open"
      ],
      "metadata": {
        "trusted": true,
        "execution": {
          "iopub.status.busy": "2025-07-09T12:13:00.53819Z",
          "iopub.execute_input": "2025-07-09T12:13:00.538549Z",
          "iopub.status.idle": "2025-07-09T12:16:25.191988Z",
          "shell.execute_reply.started": "2025-07-09T12:13:00.538524Z",
          "shell.execute_reply": "2025-07-09T12:16:25.191003Z"
        },
        "colab": {
          "base_uri": "https://localhost:8080/"
        },
        "id": "tq8n_mZFH5iR",
        "outputId": "7f6df4a9-eb09-4950-a945-ba972050099a"
      },
      "outputs": [
        {
          "output_type": "stream",
          "name": "stdout",
          "text": [
            "Requirement already satisfied: smart_open in /usr/local/lib/python3.11/dist-packages (7.3.0.post1)\n",
            "Requirement already satisfied: wrapt in /usr/local/lib/python3.11/dist-packages (from smart_open) (1.17.2)\n"
          ]
        }
      ],
      "execution_count": 6
    },
    {
      "cell_type": "code",
      "source": [
        "!pip install gensim"
      ],
      "metadata": {
        "colab": {
          "base_uri": "https://localhost:8080/"
        },
        "id": "bpCxfzKqIRqf",
        "outputId": "80c0df92-be8f-488e-98b4-2abb2540a6aa"
      },
      "execution_count": 16,
      "outputs": [
        {
          "output_type": "stream",
          "name": "stdout",
          "text": [
            "Requirement already satisfied: gensim in /usr/local/lib/python3.11/dist-packages (4.3.3)\n",
            "Requirement already satisfied: numpy<2.0,>=1.18.5 in /usr/local/lib/python3.11/dist-packages (from gensim) (1.26.4)\n",
            "Requirement already satisfied: scipy<1.14.0,>=1.7.0 in /usr/local/lib/python3.11/dist-packages (from gensim) (1.13.1)\n",
            "Requirement already satisfied: smart-open>=1.8.1 in /usr/local/lib/python3.11/dist-packages (from gensim) (7.3.0.post1)\n",
            "Requirement already satisfied: wrapt in /usr/local/lib/python3.11/dist-packages (from smart-open>=1.8.1->gensim) (1.17.2)\n"
          ]
        }
      ]
    },
    {
      "cell_type": "code",
      "source": [
        "import nltk\n",
        "nltk.download('punkt_tab')"
      ],
      "metadata": {
        "colab": {
          "base_uri": "https://localhost:8080/"
        },
        "id": "2H4Q9CEpIkJC",
        "outputId": "87b82c41-d064-4ffb-a9fc-dd92ee6b1c18"
      },
      "execution_count": 9,
      "outputs": [
        {
          "output_type": "stream",
          "name": "stderr",
          "text": [
            "[nltk_data] Downloading package punkt_tab to /root/nltk_data...\n",
            "[nltk_data]   Unzipping tokenizers/punkt_tab.zip.\n"
          ]
        },
        {
          "output_type": "execute_result",
          "data": {
            "text/plain": [
              "True"
            ]
          },
          "metadata": {},
          "execution_count": 9
        }
      ]
    },
    {
      "cell_type": "code",
      "source": [
        "from nltk import sent_tokenize\n",
        "from gensim.utils import simple_preprocess\n",
        "\n",
        "# Join all descriptions into one long string\n",
        "full_text = \" \".join(dataset)\n",
        "print(len(full_text))\n",
        "# Sentence tokenize the text\n",
        "raw_sent = sent_tokenize(full_text)\n",
        "print(len(raw_sent))\n",
        "\n",
        "# Tokenize each sentence using gensim\n",
        "story = [simple_preprocess(sent) for sent in raw_sent]"
      ],
      "metadata": {
        "trusted": true,
        "execution": {
          "iopub.status.busy": "2025-07-09T12:16:52.556239Z",
          "iopub.execute_input": "2025-07-09T12:16:52.556668Z",
          "iopub.status.idle": "2025-07-09T12:16:52.588723Z",
          "shell.execute_reply.started": "2025-07-09T12:16:52.556641Z",
          "shell.execute_reply": "2025-07-09T12:16:52.587477Z"
        },
        "colab": {
          "base_uri": "https://localhost:8080/"
        },
        "id": "Yz5JaG1uH5iR",
        "outputId": "7b0e7f85-1e62-40d4-fb67-e9bc6e43a413"
      },
      "outputs": [
        {
          "output_type": "stream",
          "name": "stdout",
          "text": [
            "976298\n",
            "13214\n"
          ]
        }
      ],
      "execution_count": 28
    },
    {
      "cell_type": "code",
      "source": [
        "len(story)"
      ],
      "metadata": {
        "trusted": true,
        "colab": {
          "base_uri": "https://localhost:8080/"
        },
        "id": "RF6934PIH5iT",
        "outputId": "32147425-30f5-427d-9c50-9cc243d233fd"
      },
      "outputs": [
        {
          "output_type": "execute_result",
          "data": {
            "text/plain": [
              "13214"
            ]
          },
          "metadata": {},
          "execution_count": 14
        }
      ],
      "execution_count": 14
    },
    {
      "cell_type": "code",
      "source": [
        "import gensim\n",
        "# importing the word2vec model with a window size of 10 ie 10.1.10 and min_count dentotes the min length of the sentecne required\n",
        "model = gensim.models.Word2Vec(\n",
        "    window=10,\n",
        "    min_count=2,\n",
        ")"
      ],
      "metadata": {
        "trusted": true,
        "id": "fQrkrq0LH5iT"
      },
      "outputs": [],
      "execution_count": 21
    },
    {
      "cell_type": "code",
      "source": [
        "model.build_vocab(story)"
      ],
      "metadata": {
        "id": "EtTc6v3EJzdU"
      },
      "execution_count": 22,
      "outputs": []
    },
    {
      "cell_type": "code",
      "source": [
        "model.train(story, total_examples=model.corpus_count, epochs=model.epochs)"
      ],
      "metadata": {
        "colab": {
          "base_uri": "https://localhost:8080/"
        },
        "id": "4kieVAaqKGGB",
        "outputId": "c4c17580-f42e-422a-ace6-2952f51d90d3"
      },
      "execution_count": 23,
      "outputs": [
        {
          "output_type": "execute_result",
          "data": {
            "text/plain": [
              "(570254, 835060)"
            ]
          },
          "metadata": {},
          "execution_count": 23
        }
      ]
    },
    {
      "cell_type": "code",
      "source": [
        "model.wv.most_similar(\"taarak\")"
      ],
      "metadata": {
        "colab": {
          "base_uri": "https://localhost:8080/"
        },
        "id": "g--NOt8-KZPR",
        "outputId": "03a64dc3-3064-4781-d337-6ab6007092de"
      },
      "execution_count": 24,
      "outputs": [
        {
          "output_type": "execute_result",
          "data": {
            "text/plain": [
              "[('mehta', 0.9380558133125305),\n",
              " ('saab', 0.9323493242263794),\n",
              " ('yummy', 0.930547297000885),\n",
              " ('anjali', 0.9235303997993469),\n",
              " ('poem', 0.9206573367118835),\n",
              " ('lalji', 0.9201982021331787),\n",
              " ('denied', 0.909988284111023),\n",
              " ('ka', 0.908061683177948),\n",
              " ('ooltha', 0.9068375825881958),\n",
              " ('dear', 0.9067952632904053)]"
            ]
          },
          "metadata": {},
          "execution_count": 24
        }
      ]
    },
    {
      "cell_type": "code",
      "source": [
        "model.wv.most_similar(\"taarak\")"
      ],
      "metadata": {
        "colab": {
          "base_uri": "https://localhost:8080/"
        },
        "id": "QobNlDZ7LNLM",
        "outputId": "c6ed39d2-0d43-486f-ec6d-e2abb77253ee"
      },
      "execution_count": 42,
      "outputs": [
        {
          "output_type": "execute_result",
          "data": {
            "text/plain": [
              "[('mehta', 0.9380558133125305),\n",
              " ('saab', 0.9323493242263794),\n",
              " ('yummy', 0.930547297000885),\n",
              " ('anjali', 0.9235303997993469),\n",
              " ('poem', 0.9206573367118835),\n",
              " ('lalji', 0.9201982021331787),\n",
              " ('denied', 0.909988284111023),\n",
              " ('ka', 0.908061683177948),\n",
              " ('ooltha', 0.9068375825881958),\n",
              " ('dear', 0.9067952632904053)]"
            ]
          },
          "metadata": {},
          "execution_count": 42
        }
      ]
    },
    {
      "cell_type": "code",
      "source": [
        "model.wv.get_normed_vectors().shape"
      ],
      "metadata": {
        "colab": {
          "base_uri": "https://localhost:8080/"
        },
        "id": "gSHlxSa6OKjp",
        "outputId": "49a1c225-4e88-4403-c499-7edff7d67021"
      },
      "execution_count": 71,
      "outputs": [
        {
          "output_type": "execute_result",
          "data": {
            "text/plain": [
              "(4728, 100)"
            ]
          },
          "metadata": {},
          "execution_count": 71
        }
      ]
    },
    {
      "cell_type": "code",
      "source": [
        "model.wv.doesnt_match(['gokuldham','jetha','gada','bhide','champak','iyer'])"
      ],
      "metadata": {
        "colab": {
          "base_uri": "https://localhost:8080/",
          "height": 36
        },
        "id": "lLxS6DhmMFXR",
        "outputId": "a2d3a997-0664-4078-f204-a79fea5e7c6b"
      },
      "execution_count": 48,
      "outputs": [
        {
          "output_type": "execute_result",
          "data": {
            "text/plain": [
              "'gokuldham'"
            ],
            "application/vnd.google.colaboratory.intrinsic+json": {
              "type": "string"
            }
          },
          "metadata": {},
          "execution_count": 48
        }
      ]
    },
    {
      "cell_type": "code",
      "source": [
        "model.wv.similarity('jetha','daya')"
      ],
      "metadata": {
        "colab": {
          "base_uri": "https://localhost:8080/"
        },
        "id": "c6ZeUMxGMuSg",
        "outputId": "ec800084-6bba-434f-87c9-510acc3ee9b9"
      },
      "execution_count": 49,
      "outputs": [
        {
          "output_type": "execute_result",
          "data": {
            "text/plain": [
              "0.9961267"
            ]
          },
          "metadata": {},
          "execution_count": 49
        }
      ]
    },
    {
      "cell_type": "code",
      "source": [
        "model.wv.similarity('jetha','babita')"
      ],
      "metadata": {
        "colab": {
          "base_uri": "https://localhost:8080/"
        },
        "id": "Llk4IcHpMyV3",
        "outputId": "a42dbfd9-b4d7-487a-a7f3-35e0aa9fce1b"
      },
      "execution_count": 57,
      "outputs": [
        {
          "output_type": "execute_result",
          "data": {
            "text/plain": [
              "0.98585325"
            ]
          },
          "metadata": {},
          "execution_count": 57
        }
      ]
    },
    {
      "cell_type": "code",
      "source": [
        "model.wv.similarity('jetha','gokuldham')"
      ],
      "metadata": {
        "colab": {
          "base_uri": "https://localhost:8080/"
        },
        "id": "M-Tb1LvnM_ke",
        "outputId": "6b3ea97f-5959-41db-e52a-5c41cf582993"
      },
      "execution_count": 77,
      "outputs": [
        {
          "output_type": "execute_result",
          "data": {
            "text/plain": [
              "0.33205512"
            ]
          },
          "metadata": {},
          "execution_count": 77
        }
      ]
    },
    {
      "cell_type": "code",
      "source": [
        "model.wv.similarity('champak','madhvi')"
      ],
      "metadata": {
        "id": "jMkWORdLP4ds",
        "outputId": "ca3c263f-4019-4423-ce1f-f702727fa0d9",
        "colab": {
          "base_uri": "https://localhost:8080/"
        }
      },
      "execution_count": 88,
      "outputs": [
        {
          "output_type": "execute_result",
          "data": {
            "text/plain": [
              "0.96948636"
            ]
          },
          "metadata": {},
          "execution_count": 88
        }
      ]
    }
  ]
}